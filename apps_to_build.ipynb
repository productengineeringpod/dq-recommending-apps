{
 "cells": [
  {
   "cell_type": "markdown",
   "metadata": {},
   "source": [
    "# Recommending apps which can be profitable on the play store and the app store\n",
    "\n",
    "The goal of this notebook is to come up with suggestions on what apps to build which can be profitable on the play store and the app store. \n",
    "\n",
    "Before begining the project, the assumption is that this recommnendation would be for only free apps - apps which do not need any money to be downloaded and where the primary source of revenue is via ads. Greater the number of users who see and engage with the ads, the better. Hence the notebook would help the users and developers understand what type of apps can attract more users."
   ]
  },
  {
   "cell_type": "markdown",
   "metadata": {},
   "source": [
    "## Exploring the data\n",
    "\n",
    "Since there are millions of app on both these platform (2 million iOS app and 2.1 million Android app as of Aug 2018,  [Source](https://www.statista.com/statistics/276623/number-of-apps-available-in-leading-app-stores/)), rather than spending time and money to collect data about all of them, we would do our study on any relevant publicly avaiable data set. \n",
    "\n",
    "Below are two examples of such datasets\n",
    "* [~10k android apps collected in Aug, 2018](https://dq-content.s3.amazonaws.com/350/googleplaystore.csv)\n",
    "* [~7k iOs apps collected in July 2017](https://dq-content.s3.amazonaws.com/350/AppleStore.csv)\n",
    "\n",
    "For our research, this data would suffice.\n",
    "\n",
    "Let us see how the data looks."
   ]
  },
  {
   "cell_type": "code",
   "execution_count": 2,
   "metadata": {},
   "outputs": [],
   "source": [
    "# Read the data\n",
    "from csv import reader\n",
    "\n",
    "# Reading iOS Data\n",
    "iosData = open(\"AppleStore.csv\", encoding=\"utf8\")\n",
    "iosDataReader = reader(iosData)\n",
    "iosApps = list(iosDataReader)\n",
    "\n",
    "# Reading android Data\n",
    "androidData = open(\"googleplaystore.csv\", encoding=\"utf8\")\n",
    "androidDataReader = reader(androidData)\n",
    "androidApps = list(androidDataReader)"
   ]
  },
  {
   "cell_type": "code",
   "execution_count": 5,
   "metadata": {},
   "outputs": [],
   "source": [
    "# Exploring the dataset\n",
    "def explore_data(dataset, start, end, rows_and_columns=False):\n",
    "    '''\n",
    "        Function to explore a dataset in the form of list of lists\n",
    "        \n",
    "        Parameters\n",
    "            dataset - list of list\n",
    "            start - start index of the data set which we want to see\n",
    "            end - end index of the data set\n",
    "            rows_and_columns - if this is True, then the function will\n",
    "            print the total number of rows and columns as well; defualt\n",
    "            is False\n",
    "            \n",
    "        Returns\n",
    "            None\n",
    "    '''\n",
    "    dataset_slice = dataset[start:end]\n",
    "    for row in dataset_slice:\n",
    "        print(row, \"\\n\")\n",
    "    \n",
    "    if rows_and_columns:\n",
    "        print(\"Number of rows : \", len(dataset))\n",
    "        print(\"Number of columns : \", len(dataset[0]))"
   ]
  },
  {
   "cell_type": "code",
   "execution_count": 6,
   "metadata": {},
   "outputs": [
    {
     "name": "stdout",
     "output_type": "stream",
     "text": [
      "['id', 'track_name', 'size_bytes', 'currency', 'price', 'rating_count_tot', 'rating_count_ver', 'user_rating', 'user_rating_ver', 'ver', 'cont_rating', 'prime_genre', 'sup_devices.num', 'ipadSc_urls.num', 'lang.num', 'vpp_lic'] \n",
      "\n",
      "['284882215', 'Facebook', '389879808', 'USD', '0.0', '2974676', '212', '3.5', '3.5', '95.0', '4+', 'Social Networking', '37', '1', '29', '1'] \n",
      "\n",
      "['389801252', 'Instagram', '113954816', 'USD', '0.0', '2161558', '1289', '4.5', '4.0', '10.23', '12+', 'Photo & Video', '37', '0', '29', '1'] \n",
      "\n",
      "Number of rows :  7198\n",
      "Number of columns :  16\n"
     ]
    }
   ],
   "source": [
    "# Let us see the the first 3 rows in iOS data and also want to check\n",
    "# the total number of rows and columns \n",
    "explore_data(iosApps, 0, 3, True)"
   ]
  },
  {
   "cell_type": "markdown",
   "metadata": {},
   "source": [
    "Looking at the above output, we can see the first row is actually the header or the meta data. Let us save that in a separate headers list."
   ]
  },
  {
   "cell_type": "code",
   "execution_count": 7,
   "metadata": {},
   "outputs": [
    {
     "name": "stdout",
     "output_type": "stream",
     "text": [
      "['id', 'track_name', 'size_bytes', 'currency', 'price', 'rating_count_tot', 'rating_count_ver', 'user_rating', 'user_rating_ver', 'ver', 'cont_rating', 'prime_genre', 'sup_devices.num', 'ipadSc_urls.num', 'lang.num', 'vpp_lic']\n"
     ]
    }
   ],
   "source": [
    "iosHeaders = iosApps[0]\n",
    "print(iosHeaders)"
   ]
  },
  {
   "cell_type": "markdown",
   "metadata": {},
   "source": [
    "So there are 7197 (7198 - 1 as 1st row is the header) rows and\n",
    "16 columns or properites of the data.  Let us do the same for android data now."
   ]
  },
  {
   "cell_type": "code",
   "execution_count": 8,
   "metadata": {},
   "outputs": [
    {
     "name": "stdout",
     "output_type": "stream",
     "text": [
      "['App', 'Category', 'Rating', 'Reviews', 'Size', 'Installs', 'Type', 'Price', 'Content Rating', 'Genres', 'Last Updated', 'Current Ver', 'Android Ver'] \n",
      "\n",
      "['Photo Editor & Candy Camera & Grid & ScrapBook', 'ART_AND_DESIGN', '4.1', '159', '19M', '10,000+', 'Free', '0', 'Everyone', 'Art & Design', 'January 7, 2018', '1.0.0', '4.0.3 and up'] \n",
      "\n",
      "['Coloring book moana', 'ART_AND_DESIGN', '3.9', '967', '14M', '500,000+', 'Free', '0', 'Everyone', 'Art & Design;Pretend Play', 'January 15, 2018', '2.0.0', '4.0.3 and up'] \n",
      "\n",
      "Number of rows :  10842\n",
      "Number of columns :  13\n"
     ]
    }
   ],
   "source": [
    "explore_data(androidApps, 0, 3, True)"
   ]
  },
  {
   "cell_type": "raw",
   "metadata": {},
   "source": [
    "Here also, the first row is the header so total number of data rows is 10842 with 13 columns each. Just like iosHeaders, let us also store and create androidHeaders."
   ]
  },
  {
   "cell_type": "code",
   "execution_count": 9,
   "metadata": {},
   "outputs": [
    {
     "name": "stdout",
     "output_type": "stream",
     "text": [
      "['App', 'Category', 'Rating', 'Reviews', 'Size', 'Installs', 'Type', 'Price', 'Content Rating', 'Genres', 'Last Updated', 'Current Ver', 'Android Ver']\n"
     ]
    }
   ],
   "source": [
    "androidHeaders = androidApps[0]\n",
    "print(androidHeaders)"
   ]
  },
  {
   "cell_type": "markdown",
   "metadata": {},
   "source": [
    "While the column names are quite descriptive for Android, they may not be so for iOS. Feel free to go through the documentation for [ios](https://www.kaggle.com/ramamet4/app-store-apple-data-set-10k-apps), as well as [android](https://www.kaggle.com/lava18/google-play-store-apps) data, to know more."
   ]
  },
  {
   "cell_type": "code",
   "execution_count": 10,
   "metadata": {},
   "outputs": [
    {
     "name": "stdout",
     "output_type": "stream",
     "text": [
      "['id', 'track_name', 'size_bytes', 'currency', 'price', 'rating_count_tot', 'rating_count_ver', 'user_rating', 'user_rating_ver', 'ver', 'cont_rating', 'prime_genre', 'sup_devices.num', 'ipadSc_urls.num', 'lang.num', 'vpp_lic']\n"
     ]
    }
   ],
   "source": [
    "print(iosHeaders)"
   ]
  },
  {
   "cell_type": "markdown",
   "metadata": {},
   "source": [
    "Looking at both the headers, we can get a good idea about the type of data. The fields which seem import for iOS are \n",
    "* currency\n",
    "* price\n",
    "* rating_count_tot\n",
    "* user_rating\n",
    "* prime_genre\n",
    "* cont_rating\n",
    "\n",
    "The fields which seem important for Android are\n",
    "* Category\n",
    "* Rating\n",
    "* Reviews\n",
    "* Installs\n",
    "* Type\n",
    "* Price\n",
    "* Content Rating\n",
    "* Genres\n"
   ]
  },
  {
   "cell_type": "code",
   "execution_count": null,
   "metadata": {},
   "outputs": [],
   "source": []
  }
 ],
 "metadata": {
  "kernelspec": {
   "display_name": "Python 3",
   "language": "python",
   "name": "python3"
  },
  "language_info": {
   "codemirror_mode": {
    "name": "ipython",
    "version": 3
   },
   "file_extension": ".py",
   "mimetype": "text/x-python",
   "name": "python",
   "nbconvert_exporter": "python",
   "pygments_lexer": "ipython3",
   "version": "3.8.2"
  }
 },
 "nbformat": 4,
 "nbformat_minor": 2
}
